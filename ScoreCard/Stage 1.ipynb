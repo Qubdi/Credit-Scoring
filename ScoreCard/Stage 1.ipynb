{
 "cells": [
  {
   "cell_type": "code",
   "id": "initial_id",
   "metadata": {
    "collapsed": true
   },
   "source": [
    "import pandas as pd\n",
    "import numpy as np\n",
    "from ScoringPy import WoeAnalysis\n",
    "from pathlib import Path\n",
    "import warnings\n",
    "\n",
    "warnings.filterwarnings('ignore')"
   ],
   "outputs": [],
   "execution_count": null
  },
  {
   "metadata": {},
   "cell_type": "code",
   "source": [
    "current_path = Path.cwd()\n",
    "RowData_path = f\"{current_path.parent}\\\\Data\\\\RowData\\\\\"\n",
    "\n",
    "\n",
    "IV_dir = \"ass\""
   ],
   "id": "2890e3d87f11959c",
   "outputs": [],
   "execution_count": null
  },
  {
   "metadata": {},
   "cell_type": "code",
   "source": "data = pd.read_feather(RowData_path + \"ML_data.feather\")",
   "id": "26d23a997560c2b0",
   "outputs": [],
   "execution_count": null
  },
  {
   "metadata": {},
   "cell_type": "code",
   "source": "data.head(5)",
   "id": "49ddb518d0972e85",
   "outputs": [],
   "execution_count": null
  },
  {
   "metadata": {},
   "cell_type": "code",
   "source": "columns_with_low_unique_values = [col for col in data.columns if data[col].nunique() < 30]",
   "id": "dc257ca100c46942",
   "outputs": [],
   "execution_count": null
  },
  {
   "metadata": {},
   "cell_type": "code",
   "source": [
    "X_train = data.drop(columns=['target'])\n",
    "y_train = data['target']\n",
    "woe_analysis = WoeAnalysis()\n",
    "\n"
   ],
   "id": "573fa2da132d6932",
   "outputs": [],
   "execution_count": null
  },
  {
   "metadata": {},
   "cell_type": "markdown",
   "source": "## Discrete Features",
   "id": "76960d935da4161e"
  },
  {
   "metadata": {},
   "cell_type": "code",
   "source": "woe_analysis.discrete(column=\"contract_type\", df=X_train, target=y_train).plot().report(save=False,path=IV_dir,type=2)",
   "id": "4ce9757a1355389d",
   "outputs": [],
   "execution_count": null
  },
  {
   "metadata": {},
   "cell_type": "code",
   "source": "woe_analysis.discrete(column=\"companion\", df=X_train, target=y_train).plot().report(save=False,path=IV_dir,type=2)",
   "id": "af77e9dccb343655",
   "outputs": [],
   "execution_count": null
  },
  {
   "metadata": {},
   "cell_type": "code",
   "source": "woe_analysis.discrete(column=\"application_weekday\", df=X_train, target=y_train).plot().report(save=False,path=IV_dir,type=2)",
   "id": "c42595dbdd79392f",
   "outputs": [],
   "execution_count": null
  },
  {
   "metadata": {},
   "cell_type": "code",
   "source": "woe_analysis.discrete(column=\"application_hour\", df=X_train, target=y_train).plot().report(save=False,path=IV_dir,type=2)",
   "id": "757f88a163ec0f2d",
   "outputs": [],
   "execution_count": null
  },
  {
   "metadata": {},
   "cell_type": "code",
   "source": "woe_analysis.discrete(column=\"ext_source_count\", df=X_train, target=y_train).plot().report(save=False,path=IV_dir,type=2)",
   "id": "6f4d7a44c5b64809",
   "outputs": [],
   "execution_count": null
  },
  {
   "metadata": {},
   "cell_type": "code",
   "source": "woe_analysis.discrete(column=\"emp_phone\", df=X_train, target=y_train).plot().report(save=False,path=IV_dir,type=2)",
   "id": "daf13fbd528c6d87",
   "outputs": [],
   "execution_count": null
  },
  {
   "metadata": {},
   "cell_type": "code",
   "source": "woe_analysis.discrete(column=\"work_phone\", df=X_train, target=y_train).plot().report(save=False,path=IV_dir,type=2)",
   "id": "3edfcd83902e61ff",
   "outputs": [],
   "execution_count": null
  },
  {
   "metadata": {},
   "cell_type": "code",
   "source": "woe_analysis.discrete(column=\"mobile_reachable\", df=X_train, target=y_train).plot().report(save=False,path=IV_dir,type=2)",
   "id": "9c3ffbb98b828c79",
   "outputs": [],
   "execution_count": null
  },
  {
   "metadata": {},
   "cell_type": "code",
   "source": "woe_analysis.discrete(column=\"phone\", df=X_train, target=y_train).plot().report(save=False,path=IV_dir,type=2)",
   "id": "6afd0262a5616db0",
   "outputs": [],
   "execution_count": null
  },
  {
   "metadata": {},
   "cell_type": "code",
   "source": "woe_analysis.discrete(column=\"email\", df=X_train, target=y_train).plot().report(save=False,path=IV_dir,type=2)",
   "id": "4420edde6b5d6249",
   "outputs": [],
   "execution_count": null
  },
  {
   "metadata": {},
   "cell_type": "code",
   "source": "woe_analysis.discrete(column=\"contact_mobile_count_x\", df=X_train, target=y_train).plot().report(save=False,path=IV_dir,type=2)",
   "id": "2201fd1ecf37fb6f",
   "outputs": [],
   "execution_count": null
  },
  {
   "metadata": {},
   "cell_type": "code",
   "source": "woe_analysis.discrete(column=\"doc_1\", df=X_train, target=y_train).plot().report(save=False,path=IV_dir,type=2)",
   "id": "25402ab78a20843a",
   "outputs": [],
   "execution_count": null
  },
  {
   "metadata": {},
   "cell_type": "code",
   "source": "woe_analysis.discrete(column=\"doc_2\", df=X_train, target=y_train).plot().report(save=False,path=IV_dir,type=2)",
   "id": "5129361941096282",
   "outputs": [],
   "execution_count": null
  },
  {
   "metadata": {},
   "cell_type": "code",
   "source": "woe_analysis.discrete(column=\"doc_3\", df=X_train, target=y_train).plot().report(save=False,path=IV_dir,type=2)",
   "id": "2151cdba6a89a03e",
   "outputs": [],
   "execution_count": null
  },
  {
   "metadata": {},
   "cell_type": "code",
   "source": "woe_analysis.discrete(column=\"doc_4\", df=X_train, target=y_train).plot().report(save=False,path=IV_dir,type=2)",
   "id": "4ce02197df225b6f",
   "outputs": [],
   "execution_count": null
  },
  {
   "metadata": {},
   "cell_type": "code",
   "source": "woe_analysis.discrete(column=\"doc_5\", df=X_train, target=y_train).plot().report(save=False,path=IV_dir,type=2)",
   "id": "ae14205f3f7f2b1c",
   "outputs": [],
   "execution_count": null
  },
  {
   "metadata": {},
   "cell_type": "code",
   "source": "woe_analysis.discrete(column=\"doc_6\", df=X_train, target=y_train).plot().report(save=False,path=IV_dir,type=2)",
   "id": "dd8f712e37944f7b",
   "outputs": [],
   "execution_count": null
  },
  {
   "metadata": {},
   "cell_type": "code",
   "source": "woe_analysis.discrete(column=\"doc_7\", df=X_train, target=y_train).plot().report(save=False,path=IV_dir,type=2)",
   "id": "7d0b9e31fd788889",
   "outputs": [],
   "execution_count": null
  },
  {
   "metadata": {},
   "cell_type": "code",
   "source": "woe_analysis.discrete(column=\"doc_8\", df=X_train, target=y_train).plot().report(save=False,path=IV_dir,type=2)",
   "id": "8b12aae8b105d733",
   "outputs": [],
   "execution_count": null
  },
  {
   "metadata": {},
   "cell_type": "code",
   "source": "woe_analysis.discrete(column=\"doc_9\", df=X_train, target=y_train).plot().report(save=False,path=IV_dir,type=2)",
   "id": "69039a51f4e440bd",
   "outputs": [],
   "execution_count": null
  },
  {
   "metadata": {},
   "cell_type": "code",
   "source": "woe_analysis.discrete(column=\"doc_10\", df=X_train, target=y_train).plot().report(save=False,path=IV_dir,type=2)",
   "id": "cc1394b6bb2d51aa",
   "outputs": [],
   "execution_count": null
  },
  {
   "metadata": {},
   "cell_type": "code",
   "source": "woe_analysis.discrete(column=\"doc_11\", df=X_train, target=y_train).plot().report(save=False,path=IV_dir,type=2)",
   "id": "e8ed0e4012a512bf",
   "outputs": [],
   "execution_count": null
  },
  {
   "metadata": {},
   "cell_type": "code",
   "source": "woe_analysis.discrete(column=\"doc_12\", df=X_train, target=y_train).plot().report(save=False,path=IV_dir,type=2)",
   "id": "acd4f5b1a2d032fd",
   "outputs": [],
   "execution_count": null
  },
  {
   "metadata": {},
   "cell_type": "code",
   "source": "woe_analysis.discrete(column=\"doc_13\", df=X_train, target=y_train).plot().report(save=False,path=IV_dir,type=2)",
   "id": "687aa6ec5defd91e",
   "outputs": [],
   "execution_count": null
  },
  {
   "metadata": {},
   "cell_type": "code",
   "source": "woe_analysis.discrete(column=\"doc_14\", df=X_train, target=y_train).plot().report(save=False,path=IV_dir,type=2)",
   "id": "91ba1c14ed9599dd",
   "outputs": [],
   "execution_count": null
  },
  {
   "metadata": {},
   "cell_type": "code",
   "source": "woe_analysis.discrete(column=\"doc_15\", df=X_train, target=y_train).plot().report(save=False,path=IV_dir,type=2)",
   "id": "7fef09f7e6ad9a55",
   "outputs": [],
   "execution_count": null
  },
  {
   "metadata": {},
   "cell_type": "code",
   "source": "woe_analysis.discrete(column=\"doc_16\", df=X_train, target=y_train).plot().report(save=False,path=IV_dir,type=2)",
   "id": "7da5ed0c101544be",
   "outputs": [],
   "execution_count": null
  },
  {
   "metadata": {},
   "cell_type": "code",
   "source": "woe_analysis.discrete(column=\"doc_17\", df=X_train, target=y_train).plot().report(save=False,path=IV_dir,type=2)",
   "id": "5a664c72c7dc4416",
   "outputs": [],
   "execution_count": null
  },
  {
   "metadata": {},
   "cell_type": "code",
   "source": "woe_analysis.discrete(column=\"doc_18\", df=X_train, target=y_train).plot().report(save=False,path=IV_dir,type=2)",
   "id": "e025004fac918bd0",
   "outputs": [],
   "execution_count": null
  },
  {
   "metadata": {},
   "cell_type": "code",
   "source": "woe_analysis.discrete(column=\"doc_19\", df=X_train, target=y_train).plot().report(save=False,path=IV_dir,type=2)",
   "id": "227ebb8c8ceeb8a9",
   "outputs": [],
   "execution_count": null
  },
  {
   "metadata": {},
   "cell_type": "code",
   "source": "woe_analysis.discrete(column=\"doc_20\", df=X_train, target=y_train).plot().report(save=False,path=IV_dir,type=2)",
   "id": "ba34f3290971f02",
   "outputs": [],
   "execution_count": null
  },
  {
   "metadata": {},
   "cell_type": "code",
   "source": "woe_analysis.discrete(column=\"contact_mobile_count_y\", df=X_train, target=y_train).plot().report(save=False,path=IV_dir,type=2)",
   "id": "bc5cafeb2b43383a",
   "outputs": [],
   "execution_count": null
  },
  {
   "metadata": {},
   "cell_type": "code",
   "source": "woe_analysis.discrete(column=\"region_rating\", df=X_train, target=y_train).plot().report(save=False,path=IV_dir,type=2)",
   "id": "3e5ed6066980db6d",
   "outputs": [],
   "execution_count": null
  },
  {
   "metadata": {},
   "cell_type": "code",
   "source": "woe_analysis.discrete(column=\"city_region_rating\", df=X_train, target=y_train).plot().report(save=False,path=IV_dir,type=2)",
   "id": "f2b556f978b9df7b",
   "outputs": [],
   "execution_count": null
  },
  {
   "metadata": {},
   "cell_type": "code",
   "source": "woe_analysis.discrete(column=\"different_region_contact\", df=X_train, target=y_train).plot().report(save=False,path=IV_dir,type=2)",
   "id": "21e029c6d3275531",
   "outputs": [],
   "execution_count": null
  },
  {
   "metadata": {},
   "cell_type": "code",
   "source": "woe_analysis.discrete(column=\"different_region_work\", df=X_train, target=y_train).plot().report(save=False,path=IV_dir,type=2)",
   "id": "f6dcc9afca038fb3",
   "outputs": [],
   "execution_count": null
  },
  {
   "metadata": {},
   "cell_type": "code",
   "source": "woe_analysis.discrete(column=\"different_region_live_work\", df=X_train, target=y_train).plot().report(save=False,path=IV_dir,type=2)",
   "id": "b99b3e802a28686f",
   "outputs": [],
   "execution_count": null
  },
  {
   "metadata": {},
   "cell_type": "code",
   "source": "woe_analysis.discrete(column=\"different_city_contact\", df=X_train, target=y_train).plot().report(save=False,path=IV_dir,type=2)",
   "id": "79425c0ad49944a8",
   "outputs": [],
   "execution_count": null
  },
  {
   "metadata": {},
   "cell_type": "code",
   "source": "woe_analysis.discrete(column=\"different_city_work\", df=X_train, target=y_train).plot().report(save=False,path=IV_dir,type=2)",
   "id": "8995c81d55690dd5",
   "outputs": [],
   "execution_count": null
  },
  {
   "metadata": {},
   "cell_type": "code",
   "source": "woe_analysis.discrete(column=\"different_city_live_work\", df=X_train, target=y_train).plot().report(save=False,path=IV_dir,type=2)",
   "id": "65e09b59fcef929b",
   "outputs": [],
   "execution_count": null
  },
  {
   "metadata": {},
   "cell_type": "code",
   "source": "woe_analysis.discrete(column=\"avg_geographical_rating\", df=X_train, target=y_train).plot().report(save=False,path=IV_dir,type=2)",
   "id": "2cef8a258d83a31b",
   "outputs": [],
   "execution_count": null
  },
  {
   "metadata": {},
   "cell_type": "code",
   "source": "woe_analysis.discrete(column=\"gender\", df=X_train, target=y_train).plot().report(save=False,path=IV_dir,type=2)",
   "id": "d9ed4f985560dd82",
   "outputs": [],
   "execution_count": null
  },
  {
   "metadata": {},
   "cell_type": "code",
   "source": "woe_analysis.discrete(column=\"family_status\", df=X_train, target=y_train).plot().report(save=False,path=IV_dir,type=2)",
   "id": "36b0f61969bade39",
   "outputs": [],
   "execution_count": null
  },
  {
   "metadata": {},
   "cell_type": "code",
   "source": "woe_analysis.discrete(column=\"housing_status\", df=X_train, target=y_train).plot().report(save=False,path=IV_dir,type=2)",
   "id": "7152ae36e621e233",
   "outputs": [],
   "execution_count": null
  },
  {
   "metadata": {},
   "cell_type": "code",
   "source": "woe_analysis.discrete(column=\"education_level\", df=X_train, target=y_train).plot().report(save=False,path=IV_dir,type=2)",
   "id": "5637e0b044736f16",
   "outputs": [],
   "execution_count": null
  },
  {
   "metadata": {},
   "cell_type": "code",
   "source": "woe_analysis.discrete(column=\"occupation\", df=X_train, target=y_train).plot().report(save=False,path=IV_dir,type=2)",
   "id": "ccef4361e3795dde",
   "outputs": [],
   "execution_count": null
  },
  {
   "metadata": {},
   "cell_type": "code",
   "source": "woe_analysis.discrete(column=\"income_type\", df=X_train, target=y_train).plot().report(save=False,path=IV_dir,type=2)",
   "id": "287dd5ff4f060bb6",
   "outputs": [],
   "execution_count": null
  },
  {
   "metadata": {},
   "cell_type": "code",
   "source": "woe_analysis.discrete(column=\"owns_realty\", df=X_train, target=y_train).plot().report(save=False,path=IV_dir,type=2)",
   "id": "bd10412f5b719671",
   "outputs": [],
   "execution_count": null
  },
  {
   "metadata": {},
   "cell_type": "code",
   "source": "woe_analysis.discrete(column=\"owns_car\", df=X_train, target=y_train).plot().report(save=False,path=IV_dir,type=2)",
   "id": "2594ec8dda7a2c55",
   "outputs": [],
   "execution_count": null
  },
  {
   "metadata": {},
   "cell_type": "code",
   "source": "woe_analysis.discrete(column=\"have_credit_card\", df=X_train, target=y_train).plot().report(save=False,path=IV_dir,type=2)",
   "id": "5eea483d80e1901d",
   "outputs": [],
   "execution_count": null
  },
  {
   "metadata": {},
   "cell_type": "code",
   "source": "woe_analysis.discrete(column=\"organisation_type\", df=X_train, target=y_train).plot().report(save=False,path=IV_dir,type=2)",
   "id": "1f88d6db6c3de967",
   "outputs": [],
   "execution_count": null
  },
  {
   "metadata": {},
   "cell_type": "markdown",
   "source": "## Continues Features",
   "id": "429da2f5ae9f32ef"
  },
  {
   "metadata": {},
   "cell_type": "code",
   "source": [
    "bins = woe_analysis.auto_binning(column=\"loan_amount\",data=X_train.fillna(-50000), target=y_train, n_bins=10)\n",
    "woe_analysis.continuous(column=\"loan_amount\",bins=bins, df=X_train, target=y_train).report(save=False,path=IV_dir,type=2)"
   ],
   "id": "8f4406e1a6e2345e",
   "outputs": [],
   "execution_count": null
  },
  {
   "metadata": {},
   "cell_type": "code",
   "source": [
    "bins = woe_analysis.auto_binning(column=\"annuity_amount\", data=X_train.fillna(-50000).fillna(-50000), target=y_train, n_bins=10)\n",
    "woe_analysis.continuous(column=\"annuity_amount\", bins=bins, df=X_train, target=y_train).report(save=False, path=IV_dir,type=2)"
   ],
   "id": "98a0b43114f9164d",
   "outputs": [],
   "execution_count": null
  },
  {
   "metadata": {},
   "cell_type": "code",
   "source": [
    "bins = woe_analysis.auto_binning(column=\"goods_price\", data=X_train.fillna(-50000), target=y_train, n_bins=10)\n",
    "woe_analysis.continuous(column=\"goods_price\", bins=bins, df=X_train, target=y_train).report(save=False, path=IV_dir,\n",
    "type=2)"
   ],
   "id": "fbb06d208f58d1b1",
   "outputs": [],
   "execution_count": null
  },
  {
   "metadata": {},
   "cell_type": "code",
   "source": [
    "bins = woe_analysis.auto_binning(column=\"ext_source_score_1\", data=X_train.fillna(-50000), target=y_train, n_bins=11)\n",
    "woe_analysis.continuous(column=\"ext_source_score_1\", bins=bins, df=X_train, target=y_train).report(save=False, path=IV_dir,\n",
    "type=2)"
   ],
   "id": "4c80f808cfac1e0f",
   "outputs": [],
   "execution_count": null
  },
  {
   "metadata": {},
   "cell_type": "code",
   "source": [
    "bins = woe_analysis.auto_binning(column=\"ext_source_score_2\", data=X_train.fillna(-50000), target=y_train, n_bins=15)\n",
    "woe_analysis.continuous(column=\"ext_source_score_2\", bins=bins, df=X_train, target=y_train).report(save=False, path=IV_dir,\n",
    "type=2)"
   ],
   "id": "a532f2c0bae44227",
   "outputs": [],
   "execution_count": null
  },
  {
   "metadata": {},
   "cell_type": "code",
   "source": [
    "bins = woe_analysis.auto_binning(column=\"ext_source_score_3\", data=X_train.fillna(-50000), target=y_train, n_bins=15)\n",
    "woe_analysis.continuous(column=\"ext_source_score_3\", bins=bins, df=X_train, target=y_train).report(save=False, path=IV_dir,\n",
    "type=2)"
   ],
   "id": "a04867d64c6df99b",
   "outputs": [],
   "execution_count": null
  },
  {
   "metadata": {},
   "cell_type": "code",
   "source": [
    "bins = woe_analysis.auto_binning(column=\"obs_30_social_circle\", data=X_train.fillna(-50000), target=y_train, n_bins=10)\n",
    "woe_analysis.continuous(column=\"obs_30_social_circle\", bins=bins, df=X_train, target=y_train).report(save=False, path=IV_dir,\n",
    "type=2)"
   ],
   "id": "bd9c5ec7e280c857",
   "outputs": [],
   "execution_count": null
  },
  {
   "metadata": {},
   "cell_type": "code",
   "source": [
    "bins = woe_analysis.auto_binning(column=\"obs_60_social_circle\", data=X_train.fillna(-50000), target=y_train, n_bins=10)\n",
    "woe_analysis.continuous(column=\"obs_60_social_circle\", bins=bins, df=X_train, target=y_train).report(save=False, path=IV_dir,\n",
    "type=2)"
   ],
   "id": "c81cfb763a32084e",
   "outputs": [],
   "execution_count": null
  },
  {
   "metadata": {},
   "cell_type": "code",
   "source": [
    "bins = woe_analysis.auto_binning(column=\"def_30_social_circle\", data=X_train.fillna(-50000), target=y_train, n_bins=10)\n",
    "woe_analysis.continuous(column=\"def_30_social_circle\", bins=bins, df=X_train, target=y_train).report(save=False, path=IV_dir,\n",
    "type=2)"
   ],
   "id": "ca08f0fd19d14526",
   "outputs": [],
   "execution_count": null
  },
  {
   "metadata": {},
   "cell_type": "code",
   "source": [
    "bins = woe_analysis.auto_binning(column=\"def_60_social_circle\", data=X_train.fillna(-50000), target=y_train, n_bins=10)\n",
    "woe_analysis.continuous(column=\"def_60_social_circle\", bins=bins, df=X_train, target=y_train).report(save=False, path=IV_dir,\n",
    "type=2)"
   ],
   "id": "f31feede0ddf7114",
   "outputs": [],
   "execution_count": null
  },
  {
   "metadata": {},
   "cell_type": "code",
   "source": [
    "bins = woe_analysis.auto_binning(column=\"complicity_amount\", data=X_train.fillna(-50000), target=y_train, n_bins=10)\n",
    "woe_analysis.continuous(column=\"complicity_amount\", bins=bins, df=X_train, target=y_train).report(save=False, path=IV_dir,\n",
    "type=2)"
   ],
   "id": "675a5f186fa69e5b",
   "outputs": [],
   "execution_count": null
  },
  {
   "metadata": {},
   "cell_type": "code",
   "source": [
    "bins = woe_analysis.auto_binning(column=\"complicity_percentage\", data=X_train.fillna(-50000), target=y_train, n_bins=10)\n",
    "woe_analysis.continuous(column=\"complicity_percentage\", bins=bins, df=X_train, target=y_train).report(save=False, path=IV_dir,\n",
    "type=2)"
   ],
   "id": "71c1e649ffd20c88",
   "outputs": [],
   "execution_count": null
  },
  {
   "metadata": {},
   "cell_type": "code",
   "source": [
    "bins = woe_analysis.auto_binning(column=\"last_phone_change_days\", data=X_train.fillna(-50000), target=y_train, n_bins=10)\n",
    "woe_analysis.continuous(column=\"last_phone_change_days\", bins=bins, df=X_train, target=y_train).report(save=False, path=IV_dir,\n",
    "type=2)"
   ],
   "id": "acce29cba4810be7",
   "outputs": [],
   "execution_count": null
  },
  {
   "metadata": {},
   "cell_type": "code",
   "source": [
    "bins = woe_analysis.auto_binning(column=\"sum_overdue_days_Active\", data=X_train.fillna(-50000), target=y_train, n_bins=10)\n",
    "woe_analysis.continuous(column=\"sum_overdue_days_Active\", bins=bins, df=X_train, target=y_train).report(save=False, path=IV_dir,\n",
    "type=2)"
   ],
   "id": "73261054fb3b9de8",
   "outputs": [],
   "execution_count": null
  },
  {
   "metadata": {},
   "cell_type": "code",
   "source": [
    "# bins = woe_analysis.auto_binning(column=\"sum_overdue_days_Bad debt\", data=X_train.fillna(-50000), target=y_train, n_bins=10)\n",
    "# woe_analysis.continuous(column=\"sum_overdue_days_Bad debt\", bins=bins, df=X_train, target=y_train).report(save=False, path=IV_dir,\n",
    "# type=2)"
   ],
   "id": "a4c3b14f09a72b9f",
   "outputs": [],
   "execution_count": null
  },
  {
   "metadata": {},
   "cell_type": "code",
   "source": [
    "bins = woe_analysis.auto_binning(column=\"sum_overdue_days_Closed\", data=X_train.fillna(-50000), target=y_train, n_bins=10)\n",
    "woe_analysis.continuous(column=\"sum_overdue_days_Closed\", bins=bins, df=X_train, target=y_train).report(save=False, path=IV_dir,\n",
    "type=2)"
   ],
   "id": "e4705fb625b6eff5",
   "outputs": [],
   "execution_count": null
  },
  {
   "metadata": {},
   "cell_type": "code",
   "source": [
    "# bins = woe_analysis.auto_binning(column=\"sum_overdue_days_Sold\", data=X_train.fillna(-50000), target=y_train, n_bins=10)\n",
    "# woe_analysis.continuous(column=\"sum_overdue_days_Sold\", bins=bins, df=X_train, target=y_train).report(save=False, path=IV_dir,\n",
    "# type=2)"
   ],
   "id": "15a8cc79903077ec",
   "outputs": [],
   "execution_count": null
  },
  {
   "metadata": {},
   "cell_type": "code",
   "source": [
    "# bins = woe_analysis.auto_binning(column=\"sum_overdue_days_Total\", data=X_train.fillna(-50000), target=y_train, n_bins=10)\n",
    "# woe_analysis.continuous(column=\"sum_overdue_days_Total\", bins=bins, df=X_train, target=y_train).report(save=False, path=IV_dir,\n",
    "# type=2)"
   ],
   "id": "39ff94382c496014",
   "outputs": [],
   "execution_count": null
  },
  {
   "metadata": {},
   "cell_type": "code",
   "source": [
    "bins = woe_analysis.auto_binning(column=\"max_overdue_days_Active\", data=X_train.fillna(-50000), target=y_train, n_bins=10)\n",
    "woe_analysis.continuous(column=\"max_overdue_days_Active\", bins=bins, df=X_train, target=y_train).report(save=False, path=IV_dir,\n",
    "type=2)"
   ],
   "id": "347752231f4811d4",
   "outputs": [],
   "execution_count": null
  },
  {
   "metadata": {},
   "cell_type": "code",
   "source": [
    "# bins = woe_analysis.auto_binning(column=\"max_overdue_days_Bad debt\", data=X_train.fillna(-50000), target=y_train, n_bins=10)\n",
    "# woe_analysis.continuous(column=\"max_overdue_days_Bad debt\", bins=bins, df=X_train, target=y_train).report(save=False, path=IV_dir,\n",
    "# type=2)"
   ],
   "id": "124fa6e3e6e49053",
   "outputs": [],
   "execution_count": null
  },
  {
   "metadata": {},
   "cell_type": "code",
   "source": [
    "bins = woe_analysis.auto_binning(column=\"max_overdue_days_Closed\", data=X_train.fillna(-50000), target=y_train, n_bins=10)\n",
    "woe_analysis.continuous(column=\"max_overdue_days_Closed\", bins=bins, df=X_train, target=y_train).report(save=False, path=IV_dir,\n",
    "type=2)"
   ],
   "id": "d2ae00709fbcddc2",
   "outputs": [],
   "execution_count": null
  },
  {
   "metadata": {},
   "cell_type": "code",
   "source": [
    "# bins = woe_analysis.auto_binning(column=\"max_overdue_days_Sold\", data=X_train.fillna(-50000), target=y_train, n_bins=10)\n",
    "# woe_analysis.continuous(column=\"max_overdue_days_Sold\", bins=bins, df=X_train, target=y_train).report(save=False, path=IV_dir,\n",
    "# type=2)"
   ],
   "id": "277602e7e861a144",
   "outputs": [],
   "execution_count": null
  },
  {
   "metadata": {},
   "cell_type": "code",
   "source": [
    "bins = woe_analysis.auto_binning(column=\"max_overdue_days_Total\", data=X_train.fillna(-50000), target=y_train, n_bins=10)\n",
    "woe_analysis.continuous(column=\"max_overdue_days_Total\", bins=bins, df=X_train, target=y_train).report(save=False, path=IV_dir,\n",
    "type=2)"
   ],
   "id": "88e2966f3deb824e",
   "outputs": [],
   "execution_count": null
  },
  {
   "metadata": {},
   "cell_type": "code",
   "source": [
    "bins = woe_analysis.auto_binning(column=\"days_since_first_loan_landed\", data=X_train.fillna(-50000), target=y_train, n_bins=10)\n",
    "woe_analysis.continuous(column=\"days_since_first_loan_landed\", bins=bins, df=X_train, target=y_train).report(save=False, path=IV_dir,\n",
    "type=2)"
   ],
   "id": "dad29ff2354b63a",
   "outputs": [],
   "execution_count": null
  },
  {
   "metadata": {},
   "cell_type": "code",
   "source": [
    "bins = woe_analysis.auto_binning(column=\"days_since_last_loan_landed\", data=X_train.fillna(-50000), target=y_train, n_bins=10)\n",
    "woe_analysis.continuous(column=\"days_since_last_loan_landed\", bins=bins, df=X_train, target=y_train).report(save=False, path=IV_dir,\n",
    "type=2)"
   ],
   "id": "edc0945e3886a2f7",
   "outputs": [],
   "execution_count": null
  },
  {
   "metadata": {},
   "cell_type": "code",
   "source": [
    "bins = woe_analysis.auto_binning(column=\"avg_days_between_landing_loans\", data=X_train.fillna(-50000), target=y_train, n_bins=10)\n",
    "woe_analysis.continuous(column=\"avg_days_between_landing_loans\", bins=bins, df=X_train, target=y_train).report(save=False, path=IV_dir,\n",
    "type=2)"
   ],
   "id": "c5f9425c4fbb7f94",
   "outputs": [],
   "execution_count": null
  },
  {
   "metadata": {},
   "cell_type": "code",
   "source": [
    "bins = woe_analysis.auto_binning(column=\"days_since_first_loan_ended\", data=X_train.fillna(-50000), target=y_train, n_bins=10)\n",
    "woe_analysis.continuous(column=\"days_since_first_loan_ended\", bins=bins, df=X_train, target=y_train).report(save=False, path=IV_dir,\n",
    "type=2)"
   ],
   "id": "50db07c3aba79f5a",
   "outputs": [],
   "execution_count": null
  },
  {
   "metadata": {},
   "cell_type": "code",
   "source": [
    "bins = woe_analysis.auto_binning(column=\"days_since_last_loan_ended\", data=X_train.fillna(-50000), target=y_train, n_bins=10)\n",
    "woe_analysis.continuous(column=\"days_since_last_loan_ended\", bins=bins, df=X_train, target=y_train).report(save=False, path=IV_dir,\n",
    "type=2)"
   ],
   "id": "eb894a8e98a41662",
   "outputs": [],
   "execution_count": null
  },
  {
   "metadata": {},
   "cell_type": "code",
   "source": [
    "bins = woe_analysis.auto_binning(column=\"Active_loans_count\", data=X_train.fillna(-50000), target=y_train, n_bins=10)\n",
    "woe_analysis.continuous(column=\"Active_loans_count\", bins=bins, df=X_train, target=y_train).report(save=False, path=IV_dir,\n",
    "type=2)"
   ],
   "id": "52a74d5f21dec36b",
   "outputs": [],
   "execution_count": null
  },
  {
   "metadata": {},
   "cell_type": "code",
   "source": [
    "bins = woe_analysis.auto_binning(column=\"Bad_loans_count\", data=X_train.fillna(-50000), target=y_train, n_bins=10)\n",
    "woe_analysis.continuous(column=\"Bad_loans_count\", bins=bins, df=X_train, target=y_train).report(save=False, path=IV_dir,\n",
    "type=2)"
   ],
   "id": "f9a18dbd00759009",
   "outputs": [],
   "execution_count": null
  },
  {
   "metadata": {},
   "cell_type": "code",
   "source": [
    "bins = woe_analysis.auto_binning(column=\"Closed_loans_count\", data=X_train.fillna(-50000), target=y_train, n_bins=10)\n",
    "woe_analysis.continuous(column=\"Closed_loans_count\", bins=bins, df=X_train, target=y_train).report(save=False, path=IV_dir,\n",
    "type=2)"
   ],
   "id": "3b957ed7ecc0ce3c",
   "outputs": [],
   "execution_count": null
  },
  {
   "metadata": {},
   "cell_type": "code",
   "source": [
    "bins = woe_analysis.auto_binning(column=\"Sold_loans_count\", data=X_train.fillna(-50000), target=y_train, n_bins=10)\n",
    "woe_analysis.continuous(column=\"Sold_loans_count\", bins=bins, df=X_train, target=y_train).report(save=False, path=IV_dir,\n",
    "type=2)"
   ],
   "id": "2182447cb2902056",
   "outputs": [],
   "execution_count": null
  },
  {
   "metadata": {},
   "cell_type": "code",
   "source": [
    "bins = woe_analysis.auto_binning(column=\"Total_loans_count\", data=X_train.fillna(-50000), target=y_train, n_bins=10)\n",
    "woe_analysis.continuous(column=\"Total_loans_count\", bins=bins, df=X_train, target=y_train).report(save=False, path=IV_dir,\n",
    "type=2)"
   ],
   "id": "c47851c42f243514",
   "outputs": [],
   "execution_count": null
  },
  {
   "metadata": {},
   "cell_type": "code",
   "source": [
    "bins = woe_analysis.auto_binning(column=\"Another type of loan\", data=X_train.fillna(-50000), target=y_train, n_bins=10)\n",
    "woe_analysis.continuous(column=\"Another type of loan\", bins=bins, df=X_train, target=y_train).report(save=False, path=IV_dir,\n",
    "type=2)"
   ],
   "id": "59379c098b6dae08",
   "outputs": [],
   "execution_count": null
  },
  {
   "metadata": {},
   "cell_type": "code",
   "source": [
    "bins = woe_analysis.auto_binning(column=\"Car loan\", data=X_train.fillna(-50000), target=y_train, n_bins=10)\n",
    "woe_analysis.continuous(column=\"Car loan\", bins=bins, df=X_train, target=y_train).report(save=False, path=IV_dir,\n",
    "type=2)"
   ],
   "id": "d0bb6a5e6321801c",
   "outputs": [],
   "execution_count": null
  },
  {
   "metadata": {},
   "cell_type": "code",
   "source": [
    "bins = woe_analysis.auto_binning(column=\"Cash loan (non-earmarked)\", data=X_train.fillna(-50000), target=y_train, n_bins=10)\n",
    "woe_analysis.continuous(column=\"Cash loan (non-earmarked)\", bins=bins, df=X_train, target=y_train).report(save=False, path=IV_dir,\n",
    "type=2)"
   ],
   "id": "7c85516786506619",
   "outputs": [],
   "execution_count": null
  },
  {
   "metadata": {},
   "cell_type": "code",
   "source": [
    "bins = woe_analysis.auto_binning(column=\"Consumer credit\", data=X_train.fillna(-50000), target=y_train, n_bins=10)\n",
    "woe_analysis.continuous(column=\"Consumer credit\", bins=bins, df=X_train, target=y_train).report(save=False, path=IV_dir,\n",
    "type=2)"
   ],
   "id": "ad20ee586e50b2e2",
   "outputs": [],
   "execution_count": null
  },
  {
   "metadata": {},
   "cell_type": "code",
   "source": [
    "bins = woe_analysis.auto_binning(column=\"Credit card\", data=X_train.fillna(-50000), target=y_train, n_bins=10)\n",
    "woe_analysis.continuous(column=\"Credit card\", bins=bins, df=X_train, target=y_train).report(save=False, path=IV_dir,\n",
    "type=2)"
   ],
   "id": "6d167464c319166f",
   "outputs": [],
   "execution_count": null
  },
  {
   "metadata": {},
   "cell_type": "code",
   "source": [
    "# bins = woe_analysis.auto_binning(column=\"Interbank credit\", data=X_train.fillna(-50000), target=y_train, n_bins=10)\n",
    "# woe_analysis.continuous(column=\"Interbank credit\", bins=bins, df=X_train, target=y_train).report(save=False, path=IV_dir,\n",
    "# type=2)"
   ],
   "id": "e2c877f772f45aee",
   "outputs": [],
   "execution_count": null
  },
  {
   "metadata": {},
   "cell_type": "code",
   "source": [
    "bins = woe_analysis.auto_binning(column=\"Loan for business development\", data=X_train.fillna(-50000), target=y_train, n_bins=10)\n",
    "woe_analysis.continuous(column=\"Loan for business development\", bins=bins, df=X_train, target=y_train).report(save=False, path=IV_dir,\n",
    "type=2)"
   ],
   "id": "cfa5e75d9187a1dc",
   "outputs": [],
   "execution_count": null
  },
  {
   "metadata": {},
   "cell_type": "code",
   "source": [
    "# bins = woe_analysis.auto_binning(column=\"Loan for purchase of shares (margin lending)\", data=X_train.fillna(-50000), target=y_train, n_bins=10)\n",
    "# woe_analysis.continuous(column=\"Loan for purchase of shares (margin lending)\", bins=bins, df=X_train, target=y_train).report(save=False, path=IV_dir,\n",
    "# type=2)"
   ],
   "id": "d5c9ca78869ab735",
   "outputs": [],
   "execution_count": null
  },
  {
   "metadata": {},
   "cell_type": "code",
   "source": [
    "bins = woe_analysis.auto_binning(column=\"Loan for the purchase of equipment\", data=X_train.fillna(-50000), target=y_train, n_bins=10)\n",
    "woe_analysis.continuous(column=\"Loan for the purchase of equipment\", bins=bins, df=X_train, target=y_train).report(save=False, path=IV_dir,\n",
    "type=2)"
   ],
   "id": "ec5dfa3b401a317",
   "outputs": [],
   "execution_count": null
  },
  {
   "metadata": {},
   "cell_type": "code",
   "source": [
    "bins = woe_analysis.auto_binning(column=\"Loan for working capital replenishment\", data=X_train.fillna(-50000), target=y_train, n_bins=10)\n",
    "woe_analysis.continuous(column=\"Loan for working capital replenishment\", bins=bins, df=X_train, target=y_train).report(save=False, path=IV_dir,\n",
    "type=2)"
   ],
   "id": "9a7ec82c8b7541fe",
   "outputs": [],
   "execution_count": null
  },
  {
   "metadata": {},
   "cell_type": "code",
   "source": [
    "bins = woe_analysis.auto_binning(column=\"Microloan\", data=X_train.fillna(-50000), target=y_train, n_bins=10)\n",
    "woe_analysis.continuous(column=\"Microloan\", bins=bins, df=X_train, target=y_train).report(save=False, path=IV_dir,\n",
    "type=2)"
   ],
   "id": "52712a370486353f",
   "outputs": [],
   "execution_count": null
  },
  {
   "metadata": {},
   "cell_type": "code",
   "source": [
    "# bins = woe_analysis.auto_binning(column=\"Mobile operator loan\", data=X_train.fillna(-50000), target=y_train, n_bins=10)\n",
    "# woe_analysis.continuous(column=\"Mobile operator loan\", bins=bins, df=X_train, target=y_train).report(save=False, path=IV_dir,\n",
    "# type=2)"
   ],
   "id": "f3327127f0e89955",
   "outputs": [],
   "execution_count": null
  },
  {
   "metadata": {},
   "cell_type": "code",
   "source": [
    "bins = woe_analysis.auto_binning(column=\"Mortgage\", data=X_train.fillna(-50000), target=y_train, n_bins=10)\n",
    "woe_analysis.continuous(column=\"Mortgage\", bins=bins, df=X_train, target=y_train).report(save=False, path=IV_dir,\n",
    "type=2)"
   ],
   "id": "305509917a5ee88",
   "outputs": [],
   "execution_count": null
  },
  {
   "metadata": {},
   "cell_type": "code",
   "source": [
    "# bins = woe_analysis.auto_binning(column=\"Real estate loan\", data=X_train.fillna(-50000), target=y_train, n_bins=10)\n",
    "# woe_analysis.continuous(column=\"Real estate loan\", bins=bins, df=X_train, target=y_train).report(save=False, path=IV_dir,\n",
    "# type=2)"
   ],
   "id": "53ab4dd252ee840",
   "outputs": [],
   "execution_count": null
  },
  {
   "metadata": {},
   "cell_type": "code",
   "source": [
    "bins = woe_analysis.auto_binning(column=\"Unknown type of loan\", data=X_train.fillna(-50000), target=y_train, n_bins=10)\n",
    "woe_analysis.continuous(column=\"Unknown type of loan\", bins=bins, df=X_train, target=y_train).report(save=False, path=IV_dir,\n",
    "type=2)"
   ],
   "id": "feeac4781e7ca90f",
   "outputs": [],
   "execution_count": null
  },
  {
   "metadata": {},
   "cell_type": "code",
   "source": [
    "bins = woe_analysis.auto_binning(column=\"total_count_x\", data=X_train.fillna(-50000), target=y_train, n_bins=10)\n",
    "woe_analysis.continuous(column=\"total_count_x\", bins=bins, df=X_train, target=y_train).report(save=False, path=IV_dir,\n",
    "type=2)"
   ],
   "id": "64b53cc6ad5a1fb5",
   "outputs": [],
   "execution_count": null
  },
  {
   "metadata": {},
   "cell_type": "code",
   "source": [
    "bins = woe_analysis.auto_binning(column=\"credit_amount_avg\", data=X_train.fillna(-50000), target=y_train, n_bins=10)\n",
    "woe_analysis.continuous(column=\"credit_amount_avg\", bins=bins, df=X_train, target=y_train).report(save=False, path=IV_dir,\n",
    "type=2)"
   ],
   "id": "38a00e88bd43a6e3",
   "outputs": [],
   "execution_count": null
  },
  {
   "metadata": {},
   "cell_type": "code",
   "source": [
    "bins = woe_analysis.auto_binning(column=\"credit_amount_max\", data=X_train.fillna(-50000), target=y_train, n_bins=10)\n",
    "woe_analysis.continuous(column=\"credit_amount_max\", bins=bins, df=X_train, target=y_train).report(save=False, path=IV_dir,\n",
    "type=2)"
   ],
   "id": "f60165028e7a02f4",
   "outputs": [],
   "execution_count": null
  },
  {
   "metadata": {},
   "cell_type": "code",
   "source": [
    "bins = woe_analysis.auto_binning(column=\"credit_amount_min\", data=X_train.fillna(-50000), target=y_train, n_bins=10)\n",
    "woe_analysis.continuous(column=\"credit_amount_min\", bins=bins, df=X_train, target=y_train).report(save=False, path=IV_dir,\n",
    "type=2)"
   ],
   "id": "3f2044ace84f4ffa",
   "outputs": [],
   "execution_count": null
  },
  {
   "metadata": {},
   "cell_type": "code",
   "source": [
    "bins = woe_analysis.auto_binning(column=\"debt_amount_avg\", data=X_train.fillna(-50000), target=y_train, n_bins=10)\n",
    "woe_analysis.continuous(column=\"debt_amount_avg\", bins=bins, df=X_train, target=y_train).report(save=False, path=IV_dir,\n",
    "type=2)"
   ],
   "id": "e55d57bc0d33fba3",
   "outputs": [],
   "execution_count": null
  },
  {
   "metadata": {},
   "cell_type": "code",
   "source": [
    "bins = woe_analysis.auto_binning(column=\"debt_amount_max\", data=X_train.fillna(-50000), target=y_train, n_bins=10)\n",
    "woe_analysis.continuous(column=\"debt_amount_max\", bins=bins, df=X_train, target=y_train).report(save=False, path=IV_dir,\n",
    "type=2)"
   ],
   "id": "1b6dc3ca74675f3f",
   "outputs": [],
   "execution_count": null
  },
  {
   "metadata": {},
   "cell_type": "code",
   "source": [
    "bins = woe_analysis.auto_binning(column=\"debt_amount_min\", data=X_train.fillna(-50000), target=y_train, n_bins=10)\n",
    "woe_analysis.continuous(column=\"debt_amount_min\", bins=bins, df=X_train, target=y_train).report(save=False, path=IV_dir,\n",
    "type=2)"
   ],
   "id": "3d0d60e630c9307d",
   "outputs": [],
   "execution_count": null
  },
  {
   "metadata": {},
   "cell_type": "code",
   "source": [
    "bins = woe_analysis.auto_binning(column=\"credit_limit_avg\", data=X_train.fillna(-50000), target=y_train, n_bins=10)\n",
    "woe_analysis.continuous(column=\"credit_limit_avg\", bins=bins, df=X_train, target=y_train).report(save=False, path=IV_dir,\n",
    "type=2)"
   ],
   "id": "ee0d0f169812ea4d",
   "outputs": [],
   "execution_count": null
  },
  {
   "metadata": {},
   "cell_type": "code",
   "source": [
    "bins = woe_analysis.auto_binning(column=\"credit_limit_max\", data=X_train.fillna(-50000), target=y_train, n_bins=10)\n",
    "woe_analysis.continuous(column=\"credit_limit_max\", bins=bins, df=X_train, target=y_train).report(save=False, path=IV_dir,\n",
    "type=2)"
   ],
   "id": "e636c60b31ea5f65",
   "outputs": [],
   "execution_count": null
  },
  {
   "metadata": {},
   "cell_type": "code",
   "source": [
    "bins = woe_analysis.auto_binning(column=\"credit_limit_min\", data=X_train.fillna(-50000), target=y_train, n_bins=10)\n",
    "woe_analysis.continuous(column=\"credit_limit_min\", bins=bins, df=X_train, target=y_train).report(save=False, path=IV_dir,\n",
    "type=2)"
   ],
   "id": "bd405cf44d89b8b1",
   "outputs": [],
   "execution_count": null
  },
  {
   "metadata": {},
   "cell_type": "code",
   "source": [
    "bins = woe_analysis.auto_binning(column=\"overdue_amount_avg\", data=X_train.fillna(-50000), target=y_train, n_bins=10)\n",
    "woe_analysis.continuous(column=\"overdue_amount_avg\", bins=bins, df=X_train, target=y_train).report(save=False, path=IV_dir,\n",
    "type=2)"
   ],
   "id": "5cdca8a8dcc78174",
   "outputs": [],
   "execution_count": null
  },
  {
   "metadata": {},
   "cell_type": "code",
   "source": [
    "bins = woe_analysis.auto_binning(column=\"overdue_amount_max\", data=X_train.fillna(-50000), target=y_train, n_bins=10)\n",
    "woe_analysis.continuous(column=\"overdue_amount_max\", bins=bins, df=X_train, target=y_train).report(save=False, path=IV_dir,\n",
    "type=2)"
   ],
   "id": "17b91962937ea0f",
   "outputs": [],
   "execution_count": null
  },
  {
   "metadata": {},
   "cell_type": "code",
   "source": [
    "bins = woe_analysis.auto_binning(column=\"overdue_amount_min\", data=X_train.fillna(-50000), target=y_train, n_bins=10)\n",
    "woe_analysis.continuous(column=\"overdue_amount_min\", bins=bins, df=X_train, target=y_train).report(save=False, path=IV_dir,\n",
    "type=2)"
   ],
   "id": "785d7d4c73d3f886",
   "outputs": [],
   "execution_count": null
  },
  {
   "metadata": {},
   "cell_type": "code",
   "source": [
    "bins = woe_analysis.auto_binning(column=\"annuity_amount_avg\", data=X_train.fillna(-50000), target=y_train, n_bins=10)\n",
    "woe_analysis.continuous(column=\"annuity_amount_avg\", bins=bins, df=X_train, target=y_train).report(save=False, path=IV_dir,\n",
    "type=2)"
   ],
   "id": "bc2056609001f118",
   "outputs": [],
   "execution_count": null
  },
  {
   "metadata": {},
   "cell_type": "code",
   "source": [
    "bins = woe_analysis.auto_binning(column=\"annuity_amount_max\", data=X_train.fillna(-50000), target=y_train, n_bins=10)\n",
    "woe_analysis.continuous(column=\"annuity_amount_max\", bins=bins, df=X_train, target=y_train).report(save=False, path=IV_dir,\n",
    "type=2)"
   ],
   "id": "d4283579817f3bc3",
   "outputs": [],
   "execution_count": null
  },
  {
   "metadata": {},
   "cell_type": "code",
   "source": [
    "bins = woe_analysis.auto_binning(column=\"annuity_amount_min\", data=X_train.fillna(-50000), target=y_train, n_bins=10)\n",
    "woe_analysis.continuous(column=\"annuity_amount_min\", bins=bins, df=X_train, target=y_train).report(save=False, path=IV_dir,\n",
    "type=2)"
   ],
   "id": "ad565eb36806468c",
   "outputs": [],
   "execution_count": null
  },
  {
   "metadata": {},
   "cell_type": "code",
   "source": [
    "bins = woe_analysis.auto_binning(column=\"prolong_count_avg\", data=X_train.fillna(-50000), target=y_train, n_bins=10)\n",
    "woe_analysis.continuous(column=\"prolong_count_avg\", bins=bins, df=X_train, target=y_train).report(save=False, path=IV_dir,\n",
    "type=2)"
   ],
   "id": "ecfe745a74d23f5a",
   "outputs": [],
   "execution_count": null
  },
  {
   "metadata": {},
   "cell_type": "code",
   "source": [
    "bins = woe_analysis.auto_binning(column=\"prolong_count_max\", data=X_train.fillna(-50000), target=y_train, n_bins=10)\n",
    "woe_analysis.continuous(column=\"prolong_count_max\", bins=bins, df=X_train, target=y_train).report(save=False, path=IV_dir,\n",
    "type=2)"
   ],
   "id": "7a2bd6fe02eaccb7",
   "outputs": [],
   "execution_count": null
  },
  {
   "metadata": {},
   "cell_type": "code",
   "source": [
    "bins = woe_analysis.auto_binning(column=\"prolong_count_min\", data=X_train.fillna(-50000), target=y_train, n_bins=10)\n",
    "woe_analysis.continuous(column=\"prolong_count_min\", bins=bins, df=X_train, target=y_train).report(save=False, path=IV_dir,\n",
    "type=2)"
   ],
   "id": "debc5887d72122af",
   "outputs": [],
   "execution_count": null
  },
  {
   "metadata": {},
   "cell_type": "code",
   "source": [
    "bins = woe_analysis.auto_binning(column=\"max_overdue_amount_avg\", data=X_train.fillna(-50000), target=y_train, n_bins=10)\n",
    "woe_analysis.continuous(column=\"max_overdue_amount_avg\", bins=bins, df=X_train, target=y_train).report(save=False, path=IV_dir,\n",
    "type=2)"
   ],
   "id": "994eb729750687c9",
   "outputs": [],
   "execution_count": null
  },
  {
   "metadata": {},
   "cell_type": "code",
   "source": [
    "bins = woe_analysis.auto_binning(column=\"max_overdue_amount_max\", data=X_train.fillna(-50000), target=y_train, n_bins=10)\n",
    "woe_analysis.continuous(column=\"max_overdue_amount_max\", bins=bins, df=X_train, target=y_train).report(save=False, path=IV_dir,\n",
    "type=2)"
   ],
   "id": "b071da0f8c505c49",
   "outputs": [],
   "execution_count": null
  },
  {
   "metadata": {},
   "cell_type": "code",
   "source": [
    "bins = woe_analysis.auto_binning(column=\"max_overdue_amount_min\", data=X_train.fillna(-50000), target=y_train, n_bins=10)\n",
    "woe_analysis.continuous(column=\"max_overdue_amount_min\", bins=bins, df=X_train, target=y_train).report(save=False, path=IV_dir,\n",
    "type=2)"
   ],
   "id": "1b142228c116d25e",
   "outputs": [],
   "execution_count": null
  },
  {
   "metadata": {},
   "cell_type": "code",
   "source": [
    "bins = woe_analysis.auto_binning(column=\"region_population\", data=X_train.fillna(-50000), target=y_train, n_bins=10)\n",
    "woe_analysis.continuous(column=\"region_population\", bins=bins, df=X_train, target=y_train).report(save=False, path=IV_dir,type=2)\n",
    "                           "
   ],
   "id": "9901ecf11ddc0a34",
   "outputs": [],
   "execution_count": null
  },
  {
   "metadata": {},
   "cell_type": "code",
   "source": [
    "bins = woe_analysis.auto_binning(column=\"Cash loans\", data=X_train.fillna(-50000), target=y_train, n_bins=10)\n",
    "woe_analysis.continuous(column=\"Cash loans\", bins=bins, df=X_train, target=y_train).report(save=False, path=IV_dir,type=2)\n"
   ],
   "id": "6da63c46a4c5d5a4",
   "outputs": [],
   "execution_count": null
  },
  {
   "metadata": {},
   "cell_type": "code",
   "source": [
    "bins = woe_analysis.auto_binning(column=\"Consumer loans\", data=X_train.fillna(-50000), target=y_train, n_bins=10)\n",
    "woe_analysis.continuous(column=\"Consumer loans\", bins=bins, df=X_train, target=y_train).report(save=False, path=IV_dir,type=2)\n"
   ],
   "id": "367b404687b5fdc7",
   "outputs": [],
   "execution_count": null
  },
  {
   "metadata": {},
   "cell_type": "code",
   "source": [
    "bins = woe_analysis.auto_binning(column=\"Revolving loans\", data=X_train.fillna(-50000), target=y_train, n_bins=10)\n",
    "woe_analysis.continuous(column=\"Revolving loans\", bins=bins, df=X_train, target=y_train).report(save=False, path=IV_dir,type=2)\n"
   ],
   "id": "d870141cdda34d74",
   "outputs": [],
   "execution_count": null
  },
  {
   "metadata": {},
   "cell_type": "code",
   "source": [
    "bins = woe_analysis.auto_binning(column=\"XNA\", data=X_train.fillna(-50000), target=y_train, n_bins=10)\n",
    "woe_analysis.continuous(column=\"XNA\", bins=bins, df=X_train, target=y_train).report(save=False, path=IV_dir,type=2)\n"
   ],
   "id": "da18da92a30024ce",
   "outputs": [],
   "execution_count": null
  },
  {
   "metadata": {},
   "cell_type": "code",
   "source": [
    "bins = woe_analysis.auto_binning(column=\"Approved\", data=X_train.fillna(-50000), target=y_train, n_bins=10)\n",
    "woe_analysis.continuous(column=\"Approved\", bins=bins, df=X_train, target=y_train).report(save=False, path=IV_dir,type=2)\n"
   ],
   "id": "17cf95276a3378b9",
   "outputs": [],
   "execution_count": null
  },
  {
   "metadata": {},
   "cell_type": "code",
   "source": [
    "bins = woe_analysis.auto_binning(column=\"Canceled\", data=X_train.fillna(-50000), target=y_train, n_bins=10)\n",
    "woe_analysis.continuous(column=\"Canceled\", bins=bins, df=X_train, target=y_train).report(save=False, path=IV_dir,type=2)\n"
   ],
   "id": "684888978079c9e8",
   "outputs": [],
   "execution_count": null
  },
  {
   "metadata": {},
   "cell_type": "code",
   "source": [
    "bins = woe_analysis.auto_binning(column=\"Refused\", data=X_train.fillna(-50000), target=y_train, n_bins=10)\n",
    "woe_analysis.continuous(column=\"Refused\", bins=bins, df=X_train, target=y_train).report(save=False, path=IV_dir,type=2)\n"
   ],
   "id": "5ee3ba5d5898cdc4",
   "outputs": [],
   "execution_count": null
  },
  {
   "metadata": {},
   "cell_type": "code",
   "source": [
    "bins = woe_analysis.auto_binning(column=\"Unused offer\", data=X_train.fillna(-50000), target=y_train, n_bins=10)\n",
    "woe_analysis.continuous(column=\"Unused offer\", bins=bins, df=X_train, target=y_train).report(save=False, path=IV_dir,type=2)\n"
   ],
   "id": "2cc353deb0c7b98a",
   "outputs": [],
   "execution_count": null
  },
  {
   "metadata": {},
   "cell_type": "code",
   "source": [
    "bins = woe_analysis.auto_binning(column=\"total_count_y\", data=X_train.fillna(-50000), target=y_train, n_bins=10)\n",
    "woe_analysis.continuous(column=\"total_count_y\", bins=bins, df=X_train, target=y_train).report(save=False, path=IV_dir,type=2)\n"
   ],
   "id": "e5fafe11c83c7fe1",
   "outputs": [],
   "execution_count": null
  },
  {
   "metadata": {},
   "cell_type": "code",
   "source": [
    "bins = woe_analysis.auto_binning(column=\"reject_rate\", data=X_train.fillna(-50000), target=y_train, n_bins=10)\n",
    "woe_analysis.continuous(column=\"reject_rate\", bins=bins, df=X_train, target=y_train).report(save=False, path=IV_dir,type=2)\n"
   ],
   "id": "e44bf601ebc02253",
   "outputs": [],
   "execution_count": null
  },
  {
   "metadata": {},
   "cell_type": "code",
   "source": [
    "bins = woe_analysis.auto_binning(column=\"Cancel_rate\", data=X_train.fillna(-50000), target=y_train, n_bins=10)\n",
    "woe_analysis.continuous(column=\"Cancel_rate\", bins=bins, df=X_train, target=y_train).report(save=False, path=IV_dir,type=2)\n"
   ],
   "id": "bbcd1c1f7f5a880f",
   "outputs": [],
   "execution_count": null
  },
  {
   "metadata": {},
   "cell_type": "code",
   "source": [
    "bins = woe_analysis.auto_binning(column=\"Approve_rate\", data=X_train.fillna(-50000), target=y_train, n_bins=10)\n",
    "woe_analysis.continuous(column=\"Approve_rate\", bins=bins, df=X_train, target=y_train).report(save=False, path=IV_dir,type=2)\n"
   ],
   "id": "47afc6851828a823",
   "outputs": [],
   "execution_count": null
  },
  {
   "metadata": {},
   "cell_type": "code",
   "source": [
    "bins = woe_analysis.auto_binning(column=\"sum_Approved\", data=X_train.fillna(-50000), target=y_train, n_bins=10)\n",
    "woe_analysis.continuous(column=\"sum_Approved\", bins=bins, df=X_train, target=y_train).report(save=False, path=IV_dir,type=2)\n"
   ],
   "id": "1f7927413a7336dd",
   "outputs": [],
   "execution_count": null
  },
  {
   "metadata": {},
   "cell_type": "code",
   "source": [
    "bins = woe_analysis.auto_binning(column=\"sum_Canceled\", data=X_train.fillna(-50000), target=y_train, n_bins=10)\n",
    "woe_analysis.continuous(column=\"sum_Canceled\", bins=bins, df=X_train, target=y_train).report(save=False, path=IV_dir,type=2)\n"
   ],
   "id": "e984b1c8cbd5995c",
   "outputs": [],
   "execution_count": null
  },
  {
   "metadata": {},
   "cell_type": "code",
   "source": [
    "bins = woe_analysis.auto_binning(column=\"sum_Refused\", data=X_train.fillna(-50000), target=y_train, n_bins=10)\n",
    "woe_analysis.continuous(column=\"sum_Refused\", bins=bins, df=X_train, target=y_train).report(save=False, path=IV_dir,type=2)\n"
   ],
   "id": "27d93de6ec1b3339",
   "outputs": [],
   "execution_count": null
  },
  {
   "metadata": {},
   "cell_type": "code",
   "source": [
    "bins = woe_analysis.auto_binning(column=\"sum_Unused offer\", data=X_train.fillna(-50000), target=y_train, n_bins=10)\n",
    "woe_analysis.continuous(column=\"sum_Unused offer\", bins=bins, df=X_train, target=y_train).report(save=False, path=IV_dir,type=2)\n"
   ],
   "id": "edcc7bb4bc576dd",
   "outputs": [],
   "execution_count": null
  },
  {
   "metadata": {},
   "cell_type": "code",
   "source": [
    "bins = woe_analysis.auto_binning(column=\"avg_Approved\", data=X_train.fillna(-50000), target=y_train, n_bins=10)\n",
    "woe_analysis.continuous(column=\"avg_Approved\", bins=bins, df=X_train, target=y_train).report(save=False, path=IV_dir,type=2)\n"
   ],
   "id": "199366cdd70fb762",
   "outputs": [],
   "execution_count": null
  },
  {
   "metadata": {},
   "cell_type": "code",
   "source": [
    "bins = woe_analysis.auto_binning(column=\"avg_Canceled\", data=X_train.fillna(-50000), target=y_train, n_bins=10)\n",
    "woe_analysis.continuous(column=\"avg_Canceled\", bins=bins, df=X_train, target=y_train).report(save=False, path=IV_dir,type=2)\n"
   ],
   "id": "2416d777d224aab4",
   "outputs": [],
   "execution_count": null
  },
  {
   "metadata": {},
   "cell_type": "code",
   "source": [
    "bins = woe_analysis.auto_binning(column=\"avg_Refused\", data=X_train.fillna(-50000), target=y_train, n_bins=10)\n",
    "woe_analysis.continuous(column=\"avg_Refused\", bins=bins, df=X_train, target=y_train).report(save=False, path=IV_dir,type=2)\n"
   ],
   "id": "346256b43b733ed7",
   "outputs": [],
   "execution_count": null
  },
  {
   "metadata": {},
   "cell_type": "code",
   "source": [
    "bins = woe_analysis.auto_binning(column=\"avg_Unused offer\", data=X_train.fillna(-50000), target=y_train, n_bins=10)\n",
    "woe_analysis.continuous(column=\"avg_Unused offer\", bins=bins, df=X_train, target=y_train).report(save=False, path=IV_dir,type=2)\n"
   ],
   "id": "a115254eaeeabc25",
   "outputs": [],
   "execution_count": null
  },
  {
   "metadata": {},
   "cell_type": "code",
   "source": [
    "bins = woe_analysis.auto_binning(column=\"children_count\", data=X_train.fillna(-50000), target=y_train, n_bins=10)\n",
    "woe_analysis.continuous(column=\"children_count\", bins=bins, df=X_train, target=y_train).report(save=False, path=IV_dir,type=2)\n"
   ],
   "id": "ef703f622960ee05",
   "outputs": [],
   "execution_count": null
  },
  {
   "metadata": {},
   "cell_type": "code",
   "source": [
    "bins = woe_analysis.auto_binning(column=\"family_members\", data=X_train.fillna(-50000), target=y_train, n_bins=10)\n",
    "woe_analysis.continuous(column=\"family_members\", bins=bins, df=X_train, target=y_train).report(save=False, path=IV_dir,type=2)\n"
   ],
   "id": "ed37f5059a03b9c0",
   "outputs": [],
   "execution_count": null
  },
  {
   "metadata": {},
   "cell_type": "code",
   "source": [
    "bins = woe_analysis.auto_binning(column=\"income_total\", data=X_train.fillna(-50000), target=y_train, n_bins=10)\n",
    "woe_analysis.continuous(column=\"income_total\", bins=bins, df=X_train, target=y_train).report(save=False, path=IV_dir,type=2)\n"
   ],
   "id": "108c6585406fb56d",
   "outputs": [],
   "execution_count": null
  },
  {
   "metadata": {},
   "cell_type": "code",
   "source": [
    "bins = woe_analysis.auto_binning(column=\"car_age\", data=X_train.fillna(-50000), target=y_train, n_bins=10)\n",
    "woe_analysis.continuous(column=\"car_age\", bins=bins, df=X_train, target=y_train).report(save=False, path=IV_dir,type=2)\n"
   ],
   "id": "df57738c66e0f64a",
   "outputs": [],
   "execution_count": null
  },
  {
   "metadata": {},
   "cell_type": "code",
   "source": [
    "bins = woe_analysis.auto_binning(column=\"age_days\", data=X_train.fillna(-50000), target=y_train, n_bins=10)\n",
    "woe_analysis.continuous(column=\"age_days\", bins=bins, df=X_train, target=y_train).report(save=False, path=IV_dir,type=2)\n"
   ],
   "id": "540412959ed29e60",
   "outputs": [],
   "execution_count": null
  },
  {
   "metadata": {},
   "cell_type": "code",
   "source": [
    "bins = woe_analysis.auto_binning(column=\"employment_days\", data=X_train.fillna(-50000), target=y_train, n_bins=10)\n",
    "woe_analysis.continuous(column=\"employment_days\", bins=bins, df=X_train, target=y_train).report(save=False, path=IV_dir,type=2)\n"
   ],
   "id": "578020461dfc5b73",
   "outputs": [],
   "execution_count": null
  },
  {
   "metadata": {},
   "cell_type": "code",
   "source": [
    "bins = woe_analysis.auto_binning(column=\"registration_days\", data=X_train.fillna(-50000), target=y_train, n_bins=10)\n",
    "woe_analysis.continuous(column=\"registration_days\", bins=bins, df=X_train, target=y_train).report(save=False, path=IV_dir,type=2)\n"
   ],
   "id": "1437f901cca147cd",
   "outputs": [],
   "execution_count": null
  },
  {
   "metadata": {},
   "cell_type": "code",
   "source": [
    "bins = woe_analysis.auto_binning(column=\"id_change_days\", data=X_train.fillna(-50000), target=y_train, n_bins=10)\n",
    "woe_analysis.continuous(column=\"id_change_days\", bins=bins, df=X_train, target=y_train).report(save=False, path=IV_dir,type=2)\n",
    "                           "
   ],
   "id": "2d9833ad1161079d",
   "outputs": [],
   "execution_count": null
  },
  {
   "metadata": {},
   "cell_type": "code",
   "source": [
    "bins = woe_analysis.auto_binning(column=\"max_credit_limit_total\", data=X_train.fillna(-50000), target=y_train, n_bins=10)\n",
    "woe_analysis.continuous(column=\"max_credit_limit_total\", bins=bins, df=X_train, target=y_train).report(save=False, path=IV_dir,type=2)\n"
   ],
   "id": "8450fd98464d43e4",
   "outputs": [],
   "execution_count": null
  },
  {
   "metadata": {},
   "cell_type": "code",
   "source": [
    "bins = woe_analysis.auto_binning(column=\"total_atm_draw_amount_total\", data=X_train.fillna(-50000), target=y_train, n_bins=10)\n",
    "woe_analysis.continuous(column=\"total_atm_draw_amount_total\", bins=bins, df=X_train, target=y_train).report(save=False, path=IV_dir,type=2)\n"
   ],
   "id": "113ef1428cd0d0f5",
   "outputs": [],
   "execution_count": null
  },
  {
   "metadata": {},
   "cell_type": "code",
   "source": [
    "bins = woe_analysis.auto_binning(column=\"total_draw_amount_total\", data=X_train.fillna(-50000), target=y_train, n_bins=10)\n",
    "woe_analysis.continuous(column=\"total_draw_amount_total\", bins=bins, df=X_train, target=y_train).report(save=False, path=IV_dir,type=2)\n"
   ],
   "id": "49d5c1077bfa08b9",
   "outputs": [],
   "execution_count": null
  },
  {
   "metadata": {},
   "cell_type": "code",
   "source": [
    "bins = woe_analysis.auto_binning(column=\"total_other_draw_amount_total\", data=X_train.fillna(-50000), target=y_train, n_bins=10)\n",
    "woe_analysis.continuous(column=\"total_other_draw_amount_total\", bins=bins, df=X_train, target=y_train).report(save=False, path=IV_dir,type=2)\n"
   ],
   "id": "5e670f6305df01e8",
   "outputs": [],
   "execution_count": null
  },
  {
   "metadata": {},
   "cell_type": "code",
   "source": [
    "bins = woe_analysis.auto_binning(column=\"total_pos_draw_amount_total\", data=X_train.fillna(-50000), target=y_train, n_bins=10)\n",
    "woe_analysis.continuous(column=\"total_pos_draw_amount_total\", bins=bins, df=X_train, target=y_train).report(save=False, path=IV_dir,type=2)\n"
   ],
   "id": "cfcba09f688f33b9",
   "outputs": [],
   "execution_count": null
  },
  {
   "metadata": {},
   "cell_type": "code",
   "source": [
    "bins = woe_analysis.auto_binning(column=\"total_atm_draw_count_total\", data=X_train.fillna(-50000), target=y_train, n_bins=10)\n",
    "woe_analysis.continuous(column=\"total_atm_draw_count_total\", bins=bins, df=X_train, target=y_train).report(save=False, path=IV_dir,type=2)\n"
   ],
   "id": "b4a15df51fdf5b3e",
   "outputs": [],
   "execution_count": null
  },
  {
   "metadata": {},
   "cell_type": "code",
   "source": [
    "bins = woe_analysis.auto_binning(column=\"total_other_draw_count_total\", data=X_train.fillna(-50000), target=y_train, n_bins=10)\n",
    "woe_analysis.continuous(column=\"total_other_draw_count_total\", bins=bins, df=X_train, target=y_train).report(save=False, path=IV_dir,type=2)\n"
   ],
   "id": "d0216a0a3ba43b9f",
   "outputs": [],
   "execution_count": null
  },
  {
   "metadata": {},
   "cell_type": "code",
   "source": [
    "bins = woe_analysis.auto_binning(column=\"total_pos_draw_count_total\", data=X_train.fillna(-50000), target=y_train, n_bins=10)\n",
    "woe_analysis.continuous(column=\"total_pos_draw_count_total\", bins=bins, df=X_train, target=y_train).report(save=False, path=IV_dir,type=2)\n"
   ],
   "id": "2dd08c0a806c6d7c",
   "outputs": [],
   "execution_count": null
  },
  {
   "metadata": {},
   "cell_type": "code",
   "source": [
    "bins = woe_analysis.auto_binning(column=\"total_paid_installments_total\", data=X_train.fillna(-50000), target=y_train, n_bins=10)\n",
    "woe_analysis.continuous(column=\"total_paid_installments_total\", bins=bins, df=X_train, target=y_train).report(save=False, path=IV_dir,type=2)\n"
   ],
   "id": "9913da74210d4c34",
   "outputs": [],
   "execution_count": null
  },
  {
   "metadata": {},
   "cell_type": "code",
   "source": [
    "bins = woe_analysis.auto_binning(column=\"max_dpd_total\", data=X_train.fillna(-50000), target=y_train, n_bins=10)\n",
    "woe_analysis.continuous(column=\"max_dpd_total\", bins=bins, df=X_train, target=y_train).report(save=False, path=IV_dir,type=2)\n"
   ],
   "id": "88308c86db7a863c",
   "outputs": [],
   "execution_count": null
  },
  {
   "metadata": {},
   "cell_type": "code",
   "source": [
    "bins = woe_analysis.auto_binning(column=\"max_credit_limit_last_12m\", data=X_train.fillna(-50000), target=y_train, n_bins=10)\n",
    "woe_analysis.continuous(column=\"max_credit_limit_last_12m\", bins=bins, df=X_train, target=y_train).report(save=False, path=IV_dir,type=2)\n"
   ],
   "id": "33973586b1a26fc",
   "outputs": [],
   "execution_count": null
  },
  {
   "metadata": {},
   "cell_type": "code",
   "source": [
    "bins = woe_analysis.auto_binning(column=\"total_atm_draw_amount_last_12m\", data=X_train.fillna(-50000), target=y_train, n_bins=10)\n",
    "woe_analysis.continuous(column=\"total_atm_draw_amount_last_12m\", bins=bins, df=X_train, target=y_train).report(save=False, path=IV_dir,type=2)\n"
   ],
   "id": "b5ca35c651ad8f21",
   "outputs": [],
   "execution_count": null
  },
  {
   "metadata": {},
   "cell_type": "code",
   "source": [
    "bins = woe_analysis.auto_binning(column=\"total_draw_amount_last_12m\", data=X_train.fillna(-50000), target=y_train, n_bins=10)\n",
    "woe_analysis.continuous(column=\"total_draw_amount_last_12m\", bins=bins, df=X_train, target=y_train).report(save=False, path=IV_dir,type=2)"
   ],
   "id": "36e373e1950c26df",
   "outputs": [],
   "execution_count": null
  },
  {
   "metadata": {},
   "cell_type": "code",
   "source": [
    "bins = woe_analysis.auto_binning(column=\"total_other_draw_amount_last_12m\", data=X_train.fillna(-50000), target=y_train, n_bins=10)\n",
    "woe_analysis.continuous(column=\"total_other_draw_amount_last_12m\", bins=bins, df=X_train, target=y_train).report(save=False, path=IV_dir,type=2)"
   ],
   "id": "d0a809a81e7d9828",
   "outputs": [],
   "execution_count": null
  },
  {
   "metadata": {},
   "cell_type": "code",
   "source": [
    "bins = woe_analysis.auto_binning(column=\"total_pos_draw_amount_last_12m\", data=X_train.fillna(-50000), target=y_train, n_bins=10)\n",
    "woe_analysis.continuous(column=\"total_pos_draw_amount_last_12m\", bins=bins, df=X_train, target=y_train).report(save=False, path=IV_dir,type=2)"
   ],
   "id": "6c2b85b785d5de13",
   "outputs": [],
   "execution_count": null
  },
  {
   "metadata": {},
   "cell_type": "code",
   "source": [
    "bins = woe_analysis.auto_binning(column=\"total_atm_draw_count_last_12m\", data=X_train.fillna(-50000), target=y_train, n_bins=10)\n",
    "woe_analysis.continuous(column=\"total_atm_draw_count_last_12m\", bins=bins, df=X_train, target=y_train).report(save=False, path=IV_dir,type=2)"
   ],
   "id": "29d0c63a6aea0cfe",
   "outputs": [],
   "execution_count": null
  },
  {
   "metadata": {},
   "cell_type": "code",
   "source": [
    "bins = woe_analysis.auto_binning(column=\"total_other_draw_count_last_12m\", data=X_train.fillna(-50000), target=y_train, n_bins=10)\n",
    "woe_analysis.continuous(column=\"total_other_draw_count_last_12m\", bins=bins, df=X_train, target=y_train).report(save=False, path=IV_dir,type=2)"
   ],
   "id": "4c835790091ba883",
   "outputs": [],
   "execution_count": null
  },
  {
   "metadata": {},
   "cell_type": "code",
   "source": [
    "bins = woe_analysis.auto_binning(column=\"total_pos_draw_count_last_12m\", data=X_train.fillna(-50000), target=y_train, n_bins=10)\n",
    "woe_analysis.continuous(column=\"total_pos_draw_count_last_12m\", bins=bins, df=X_train, target=y_train).report(save=False, path=IV_dir,type=2)"
   ],
   "id": "97a345c05bc6ac5f",
   "outputs": [],
   "execution_count": null
  },
  {
   "metadata": {},
   "cell_type": "code",
   "source": [
    "bins = woe_analysis.auto_binning(column=\"total_paid_installments_last_12m\", data=X_train.fillna(-50000), target=y_train, n_bins=10)\n",
    "woe_analysis.continuous(column=\"total_paid_installments_last_12m\", bins=bins, df=X_train, target=y_train).report(save=False, path=IV_dir,type=2)"
   ],
   "id": "a46b0683ee0e18d6",
   "outputs": [],
   "execution_count": null
  },
  {
   "metadata": {},
   "cell_type": "code",
   "source": [
    "bins = woe_analysis.auto_binning(column=\"max_dpd_last_12m\", data=X_train.fillna(-50000), target=y_train, n_bins=10)\n",
    "woe_analysis.continuous(column=\"max_dpd_last_12m\", bins=bins, df=X_train, target=y_train).report(save=False, path=IV_dir,type=2)"
   ],
   "id": "21974f979ced9682",
   "outputs": [],
   "execution_count": null
  },
  {
   "metadata": {},
   "cell_type": "code",
   "source": [
    "bins = woe_analysis.auto_binning(column=\"max_credit_limit_last_6m\", data=X_train.fillna(-50000), target=y_train, n_bins=10)\n",
    "woe_analysis.continuous(column=\"max_credit_limit_last_6m\", bins=bins, df=X_train, target=y_train).report(save=False, path=IV_dir,type=2)"
   ],
   "id": "fb652a49c04954df",
   "outputs": [],
   "execution_count": null
  },
  {
   "metadata": {},
   "cell_type": "code",
   "source": [
    "bins = woe_analysis.auto_binning(column=\"total_atm_draw_amount_last_6m\", data=X_train.fillna(-50000), target=y_train, n_bins=10)\n",
    "woe_analysis.continuous(column=\"total_atm_draw_amount_last_6m\", bins=bins, df=X_train, target=y_train).report(save=False, path=IV_dir,type=2)"
   ],
   "id": "c936315b6c0d67fd",
   "outputs": [],
   "execution_count": null
  },
  {
   "metadata": {},
   "cell_type": "code",
   "source": [
    "bins = woe_analysis.auto_binning(column=\"total_draw_amount_last_6m\", data=X_train.fillna(-50000), target=y_train, n_bins=10)\n",
    "woe_analysis.continuous(column=\"total_draw_amount_last_6m\", bins=bins, df=X_train, target=y_train).report(save=False, path=IV_dir,type=2)"
   ],
   "id": "822f867200f730f7",
   "outputs": [],
   "execution_count": null
  },
  {
   "metadata": {},
   "cell_type": "code",
   "source": [
    "bins = woe_analysis.auto_binning(column=\"total_other_draw_amount_last_6m\", data=X_train.fillna(-50000), target=y_train, n_bins=10)\n",
    "woe_analysis.continuous(column=\"total_other_draw_amount_last_6m\", bins=bins, df=X_train, target=y_train).report(save=False, path=IV_dir,type=2)"
   ],
   "id": "8d654598bc9f7e47",
   "outputs": [],
   "execution_count": null
  },
  {
   "metadata": {},
   "cell_type": "code",
   "source": [
    "bins = woe_analysis.auto_binning(column=\"total_pos_draw_amount_last_6m\", data=X_train.fillna(-50000), target=y_train, n_bins=10)\n",
    "woe_analysis.continuous(column=\"total_pos_draw_amount_last_6m\", bins=bins, df=X_train, target=y_train).report(save=False, path=IV_dir,type=2)"
   ],
   "id": "e9a880cd8bb0a560",
   "outputs": [],
   "execution_count": null
  },
  {
   "metadata": {},
   "cell_type": "code",
   "source": [
    "bins = woe_analysis.auto_binning(column=\"total_atm_draw_count_last_6m\", data=X_train.fillna(-50000), target=y_train, n_bins=10)\n",
    "woe_analysis.continuous(column=\"total_atm_draw_count_last_6m\", bins=bins, df=X_train, target=y_train).report(save=False, path=IV_dir,type=2)"
   ],
   "id": "cce19037b3bdf2b2",
   "outputs": [],
   "execution_count": null
  },
  {
   "metadata": {},
   "cell_type": "code",
   "source": [
    "bins = woe_analysis.auto_binning(column=\"total_other_draw_count_last_6m\", data=X_train.fillna(-50000), target=y_train, n_bins=10)\n",
    "woe_analysis.continuous(column=\"total_other_draw_count_last_6m\", bins=bins, df=X_train, target=y_train).report(save=False, path=IV_dir,type=2)"
   ],
   "id": "1edf5e8fe5c6fb68",
   "outputs": [],
   "execution_count": null
  },
  {
   "metadata": {},
   "cell_type": "code",
   "source": [
    "bins = woe_analysis.auto_binning(column=\"total_pos_draw_count_last_6m\", data=X_train.fillna(-50000), target=y_train, n_bins=10)\n",
    "woe_analysis.continuous(column=\"total_pos_draw_count_last_6m\", bins=bins, df=X_train, target=y_train).report(save=False, path=IV_dir,type=2)"
   ],
   "id": "4dabe8f1a00a1081",
   "outputs": [],
   "execution_count": null
  },
  {
   "metadata": {},
   "cell_type": "code",
   "source": [
    "bins = woe_analysis.auto_binning(column=\"total_paid_installments_last_6m\", data=X_train.fillna(-50000), target=y_train, n_bins=10)\n",
    "woe_analysis.continuous(column=\"total_paid_installments_last_6m\", bins=bins, df=X_train, target=y_train).report(save=False, path=IV_dir,type=2)"
   ],
   "id": "d970420b25794015",
   "outputs": [],
   "execution_count": null
  },
  {
   "metadata": {},
   "cell_type": "code",
   "source": [
    "bins = woe_analysis.auto_binning(column=\"max_dpd_last_6m\", data=X_train.fillna(-50000), target=y_train, n_bins=10)\n",
    "woe_analysis.continuous(column=\"max_dpd_last_6m\", bins=bins, df=X_train, target=y_train).report(save=False, path=IV_dir,type=2)"
   ],
   "id": "89314c1e8f884fbf",
   "outputs": [],
   "execution_count": null
  },
  {
   "metadata": {},
   "cell_type": "code",
   "source": [
    "bins = woe_analysis.auto_binning(column=\"sum_future_installments\", data=X_train.fillna(-50000), target=y_train, n_bins=10)\n",
    "woe_analysis.continuous(column=\"sum_future_installments\", bins=bins, df=X_train, target=y_train).report(save=False, path=IV_dir,type=2)"
   ],
   "id": "1aab576cdbbf5785",
   "outputs": [],
   "execution_count": null
  },
  {
   "metadata": {},
   "cell_type": "code",
   "source": [
    "bins = woe_analysis.auto_binning(column=\"max_future_installments\", data=X_train.fillna(-50000), target=y_train, n_bins=10)\n",
    "woe_analysis.continuous(column=\"max_future_installments\", bins=bins, df=X_train, target=y_train).report(save=False, path=IV_dir,type=2)"
   ],
   "id": "2d0185cf1cde63a",
   "outputs": [],
   "execution_count": null
  },
  {
   "metadata": {},
   "cell_type": "code",
   "source": [
    "bins = woe_analysis.auto_binning(column=\"max_dpd\", data=X_train.fillna(-50000), target=y_train, n_bins=10)\n",
    "woe_analysis.continuous(column=\"max_dpd\", bins=bins, df=X_train, target=y_train).report(save=False, path=IV_dir,type=2)"
   ],
   "id": "ed49d7e2bb9bea53",
   "outputs": [],
   "execution_count": null
  },
  {
   "metadata": {},
   "cell_type": "code",
   "source": [
    "bins = woe_analysis.auto_binning(column=\"max_dpd_tolerance\", data=X_train.fillna(-50000), target=y_train, n_bins=10)\n",
    "woe_analysis.continuous(column=\"max_dpd_tolerance\", bins=bins, df=X_train, target=y_train).report(save=False, path=IV_dir,type=2)"
   ],
   "id": "3308fd5fd5b3331f",
   "outputs": [],
   "execution_count": null
  },
  {
   "metadata": {},
   "cell_type": "code",
   "source": [
    "bins = woe_analysis.auto_binning(column=\"sum_dpd\", data=X_train.fillna(-50000), target=y_train, n_bins=10)\n",
    "woe_analysis.continuous(column=\"sum_dpd\", bins=bins, df=X_train, target=y_train).report(save=False, path=IV_dir,type=2)"
   ],
   "id": "f314903d5b0ab121",
   "outputs": [],
   "execution_count": null
  },
  {
   "metadata": {},
   "cell_type": "code",
   "source": [
    "bins = woe_analysis.auto_binning(column=\"sum_dpd_tolerance\", data=X_train.fillna(-50000), target=y_train, n_bins=10)\n",
    "woe_analysis.continuous(column=\"sum_dpd_tolerance\", bins=bins, df=X_train, target=y_train).report(save=False, path=IV_dir,type=2)"
   ],
   "id": "a62c46ddda7dd841",
   "outputs": [],
   "execution_count": null
  },
  {
   "metadata": {},
   "cell_type": "code",
   "source": [
    "bins = woe_analysis.auto_binning(column=\"apartment_avg\", data=X_train.fillna(-50000), target=y_train, n_bins=10)\n",
    "woe_analysis.continuous(column=\"apartment_avg\", bins=bins, df=X_train, target=y_train).report(save=False, path=IV_dir,type=2)"
   ],
   "id": "a7b8a9304cd39ad1",
   "outputs": [],
   "execution_count": null
  },
  {
   "metadata": {},
   "cell_type": "code",
   "source": [
    "bins = woe_analysis.auto_binning(column=\"basement_area_avg\", data=X_train.fillna(-50000), target=y_train, n_bins=10)\n",
    "woe_analysis.continuous(column=\"basement_area_avg\", bins=bins, df=X_train, target=y_train).report(save=False, path=IV_dir,type=2)"
   ],
   "id": "70f2fadaa98e8d01",
   "outputs": [],
   "execution_count": null
  },
  {
   "metadata": {},
   "cell_type": "code",
   "source": [
    "bins = woe_analysis.auto_binning(column=\"building_use_start_avg\", data=X_train.fillna(-50000), target=y_train, n_bins=10)\n",
    "woe_analysis.continuous(column=\"building_use_start_avg\", bins=bins, df=X_train, target=y_train).report(save=False, path=IV_dir,type=2)"
   ],
   "id": "58e8878e4f44cd36",
   "outputs": [],
   "execution_count": null
  },
  {
   "metadata": {},
   "cell_type": "code",
   "source": [
    "bins = woe_analysis.auto_binning(column=\"building_year_avg\", data=X_train.fillna(-50000), target=y_train, n_bins=10)\n",
    "woe_analysis.continuous(column=\"building_year_avg\", bins=bins, df=X_train, target=y_train).report(save=False, path=IV_dir,type=2)"
   ],
   "id": "fada8208518353b6",
   "outputs": [],
   "execution_count": null
  },
  {
   "metadata": {},
   "cell_type": "code",
   "source": [
    "bins = woe_analysis.auto_binning(column=\"common_area_avg\", data=X_train.fillna(-50000), target=y_train, n_bins=10)\n",
    "woe_analysis.continuous(column=\"common_area_avg\", bins=bins, df=X_train, target=y_train).report(save=False, path=IV_dir,type=2)"
   ],
   "id": "e9869d8003d828ff",
   "outputs": [],
   "execution_count": null
  },
  {
   "metadata": {},
   "cell_type": "code",
   "source": [
    "bins = woe_analysis.auto_binning(column=\"elevators_avg\", data=X_train.fillna(-50000), target=y_train, n_bins=10)\n",
    "woe_analysis.continuous(column=\"elevators_avg\", bins=bins, df=X_train, target=y_train).report(save=False, path=IV_dir,type=2)"
   ],
   "id": "2993a13ff4df7bcc",
   "outputs": [],
   "execution_count": null
  },
  {
   "metadata": {},
   "cell_type": "code",
   "source": [
    "bins = woe_analysis.auto_binning(column=\"entrances_avg\", data=X_train.fillna(-50000), target=y_train, n_bins=10)\n",
    "woe_analysis.continuous(column=\"entrances_avg\", bins=bins, df=X_train, target=y_train).report(save=False, path=IV_dir,type=2)"
   ],
   "id": "d25a6d3bd6c3837a",
   "outputs": [],
   "execution_count": null
  },
  {
   "metadata": {},
   "cell_type": "code",
   "source": [
    "bins = woe_analysis.auto_binning(column=\"land_area_avg\", data=X_train.fillna(-50000), target=y_train, n_bins=10)\n",
    "woe_analysis.continuous(column=\"land_area_avg\", bins=bins, df=X_train, target=y_train).report(save=False, path=IV_dir,type=2)"
   ],
   "id": "5d2914986dc44aae",
   "outputs": [],
   "execution_count": null
  },
  {
   "metadata": {},
   "cell_type": "code",
   "source": [
    "bins = woe_analysis.auto_binning(column=\"living_apartment_avg\", data=X_train.fillna(-50000), target=y_train, n_bins=10)\n",
    "woe_analysis.continuous(column=\"living_apartment_avg\", bins=bins, df=X_train, target=y_train).report(save=False, path=IV_dir,type=2)"
   ],
   "id": "2e20a09d42a91644",
   "outputs": [],
   "execution_count": null
  },
  {
   "metadata": {},
   "cell_type": "code",
   "source": [
    "bins = woe_analysis.auto_binning(column=\"living_area_avg\", data=X_train.fillna(-50000), target=y_train, n_bins=10)\n",
    "woe_analysis.continuous(column=\"living_area_avg\", bins=bins, df=X_train, target=y_train).report(save=False, path=IV_dir,type=2)"
   ],
   "id": "944742145bfbd2ba",
   "outputs": [],
   "execution_count": null
  },
  {
   "metadata": {},
   "cell_type": "code",
   "source": [
    "bins = woe_analysis.auto_binning(column=\"max_floors_avg\", data=X_train.fillna(-50000), target=y_train, n_bins=10)\n",
    "woe_analysis.continuous(column=\"max_floors_avg\", bins=bins, df=X_train, target=y_train).report(save=False, path=IV_dir,type=2)"
   ],
   "id": "199431786da736b2",
   "outputs": [],
   "execution_count": null
  },
  {
   "metadata": {},
   "cell_type": "code",
   "source": [
    "bins = woe_analysis.auto_binning(column=\"min_floors_avg\", data=X_train.fillna(-50000), target=y_train, n_bins=10)\n",
    "woe_analysis.continuous(column=\"min_floors_avg\", bins=bins, df=X_train, target=y_train).report(save=False, path=IV_dir,type=2)"
   ],
   "id": "e7f051fdb5ae49bb",
   "outputs": [],
   "execution_count": null
  },
  {
   "metadata": {},
   "cell_type": "code",
   "source": [
    "bins = woe_analysis.auto_binning(column=\"non_living_apartment_avg\", data=X_train.fillna(-50000), target=y_train, n_bins=10)\n",
    "woe_analysis.continuous(column=\"non_living_apartment_avg\", bins=bins, df=X_train, target=y_train).report(save=False, path=IV_dir,type=2)"
   ],
   "id": "2f8a3a6431476eea",
   "outputs": [],
   "execution_count": null
  },
  {
   "metadata": {},
   "cell_type": "code",
   "source": [
    "bins = woe_analysis.auto_binning(column=\"non_living_area_avg\", data=X_train.fillna(-50000), target=y_train, n_bins=10)\n",
    "woe_analysis.continuous(column=\"non_living_area_avg\", bins=bins, df=X_train, target=y_train).report(save=False, path=IV_dir,type=2)"
   ],
   "id": "a3788677aa6a77d",
   "outputs": [],
   "execution_count": null
  },
  {
   "metadata": {},
   "cell_type": "code",
   "source": "",
   "id": "423b79cf53c5dac6",
   "outputs": [],
   "execution_count": null
  }
 ],
 "metadata": {
  "kernelspec": {
   "display_name": "Python 3",
   "language": "python",
   "name": "python3"
  },
  "language_info": {
   "codemirror_mode": {
    "name": "ipython",
    "version": 2
   },
   "file_extension": ".py",
   "mimetype": "text/x-python",
   "name": "python",
   "nbconvert_exporter": "python",
   "pygments_lexer": "ipython2",
   "version": "2.7.6"
  }
 },
 "nbformat": 4,
 "nbformat_minor": 5
}
