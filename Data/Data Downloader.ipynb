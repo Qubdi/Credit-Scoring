{
 "cells": [
  {
   "cell_type": "code",
   "id": "initial_id",
   "metadata": {
    "collapsed": true,
    "ExecuteTime": {
     "end_time": "2024-11-12T08:47:56.633214Z",
     "start_time": "2024-11-12T08:47:56.624046Z"
    }
   },
   "source": [
    "from dotenv import load_dotenv,find_dotenv\n",
    "from sqlalchemy import create_engine\n",
    "import pandas as pd\n",
    "import os"
   ],
   "outputs": [],
   "execution_count": 5
  },
  {
   "metadata": {
    "ExecuteTime": {
     "end_time": "2024-11-12T08:47:56.804726Z",
     "start_time": "2024-11-12T08:47:56.790047Z"
    }
   },
   "cell_type": "code",
   "source": [
    "dotenv_path = find_dotenv()\n",
    "load_env = load_dotenv(dotenv_path)\n",
    "\n",
    "POSGRESQL_USER = os.getenv(\"POSGRESQL_USER\")\n",
    "POSGRESQL_PASS = os.getenv(\"POSGRESQL_PASS\")\n",
    "POSGRESQL_SERVER = os.getenv(\"POSGRESQL_SERVER\")\n",
    "POSGRESQL_PORT = os.getenv(\"POSGRESQL_PORT\")"
   ],
   "id": "352cb8e7e89b9ec7",
   "outputs": [],
   "execution_count": 6
  },
  {
   "metadata": {
    "ExecuteTime": {
     "end_time": "2024-11-12T08:47:56.958150Z",
     "start_time": "2024-11-12T08:47:56.951639Z"
    }
   },
   "cell_type": "code",
   "source": [
    "# Define your database connection URL\n",
    "database_url = f\"postgresql+psycopg2://{POSGRESQL_USER}:{POSGRESQL_PASS}@{POSGRESQL_SERVER}:{POSGRESQL_PORT}/CreditScoring\"\n",
    "\n",
    "# Create an SQLAlchemy engine\n",
    "engine = create_engine(database_url)\n"
   ],
   "id": "a3c654fde11e0cf5",
   "outputs": [],
   "execution_count": 7
  },
  {
   "metadata": {
    "ExecuteTime": {
     "end_time": "2024-11-12T08:50:39.604619Z",
     "start_time": "2024-11-12T08:47:57.222306Z"
    }
   },
   "cell_type": "code",
   "source": [
    "\n",
    "tables = [\"applications\",\n",
    "          \"contacts\",\n",
    "          \"documentations\",\n",
    "          \"credit_card_balance\",\n",
    "          \"creditinfo\",\n",
    "          \"creditinfo_balance\",\n",
    "          \"geographical\",\n",
    "          \"hisotrical_applications\",\n",
    "          \"installments_payments\",\n",
    "          \"personal\",\n",
    "          \"pos_cash_balance\",\n",
    "          \"residence\"]\n",
    "\n",
    "for table in tables:\n",
    "    pd.read_sql(f\"SELECT * FROM dbo.{table}\", con=engine).to_feather(f\"RowData/{table}.feather\")\n",
    "\n",
    "engine.dispose()"
   ],
   "id": "52df19a6653150ae",
   "outputs": [],
   "execution_count": 8
  },
  {
   "metadata": {},
   "cell_type": "code",
   "outputs": [],
   "execution_count": null,
   "source": [],
   "id": "3f44ab778ddd225d"
  }
 ],
 "metadata": {
  "kernelspec": {
   "display_name": "Python 3",
   "language": "python",
   "name": "python3"
  },
  "language_info": {
   "codemirror_mode": {
    "name": "ipython",
    "version": 2
   },
   "file_extension": ".py",
   "mimetype": "text/x-python",
   "name": "python",
   "nbconvert_exporter": "python",
   "pygments_lexer": "ipython2",
   "version": "2.7.6"
  }
 },
 "nbformat": 4,
 "nbformat_minor": 5
}
